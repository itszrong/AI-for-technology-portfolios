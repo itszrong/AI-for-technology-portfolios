{
  "nbformat": 4,
  "nbformat_minor": 0,
  "metadata": {
    "colab": {
      "provenance": []
    },
    "kernelspec": {
      "name": "python3",
      "display_name": "Python 3"
    },
    "language_info": {
      "name": "python"
    },
    "accelerator": "GPU",
    "gpuClass": "standard"
  },
  "cells": [
    {
      "cell_type": "code",
      "source": [
        "!pip install openai -q\n",
        "!pip install backoff\n",
        "!pip install tenacity"
      ],
      "metadata": {
        "id": "KlXTreS2TjwE"
      },
      "execution_count": null,
      "outputs": []
    },
    {
      "cell_type": "code",
      "source": [
        "from google.colab import drive\n",
        "drive.mount('/gdrive')\n",
        "# drive.mount(\"/gdrive\", force_remount=True)"
      ],
      "metadata": {
        "id": "pZJkH8GgTsjL"
      },
      "execution_count": null,
      "outputs": []
    },
    {
      "cell_type": "code",
      "source": [
        "import openai\n",
        "import pandas as pd\n",
        "import numpy as np\n",
        "from getpass import getpass\n",
        "\n",
        "openai.api_key = getpass()"
      ],
      "metadata": {
        "id": "mcjEVvUBTj0E"
      },
      "execution_count": null,
      "outputs": []
    },
    {
      "cell_type": "code",
      "source": [
        "from openai.embeddings_utils import get_embedding\n",
        "from openai.embeddings_utils import cosine_similarity\n",
        "COMPLETIONS_MODEL = \"text-davinci-003\"\n",
        "EMBEDDINGS_MODEL = \"text-embedding-ada-002\""
      ],
      "metadata": {
        "id": "Lz_z3d06iKLJ"
      },
      "execution_count": null,
      "outputs": []
    },
    {
      "cell_type": "code",
      "source": [
        "ls"
      ],
      "metadata": {
        "id": "YZPuc5KVrv_3"
      },
      "execution_count": null,
      "outputs": []
    },
    {
      "cell_type": "code",
      "source": [
        "%cd 'Patents and software'\n",
        "# ls"
      ],
      "metadata": {
        "id": "Jcl-wi4jTj2k"
      },
      "execution_count": null,
      "outputs": []
    },
    {
      "cell_type": "code",
      "source": [
        "patent_df = pd.read_csv('patent_three (4).csv')\n",
        "software_df = pd.read_csv('software_catalog (2).csv')\n",
        "# patent_df"
      ],
      "metadata": {
        "id": "R7CL2SChTj40"
      },
      "execution_count": null,
      "outputs": []
    },
    {
      "cell_type": "code",
      "source": [
        "patent_df"
      ],
      "metadata": {
        "id": "0tkDrMx51CgZ"
      },
      "execution_count": null,
      "outputs": []
    },
    {
      "cell_type": "code",
      "source": [
        "technology_info_list = ['technology area', 'Technology area text', 'Patent name', 'Purpose', 'overview',\t'Technology',\t'benefits',\t'Applications',\t'Technology Details']\n",
        "software_info_list = ['software area', 'area', 'software name', 'overview']"
      ],
      "metadata": {
        "id": "d5x4AaLvYdYX"
      },
      "execution_count": null,
      "outputs": []
    },
    {
      "cell_type": "code",
      "source": [
        "software_file_name = 'software name_embeddings.csv'\n",
        "technology_file_name = 'technology_embeddings.csv'"
      ],
      "metadata": {
        "id": "4OL8cbxjyWqY"
      },
      "execution_count": null,
      "outputs": []
    },
    {
      "cell_type": "code",
      "source": [
        "class database:\n",
        "\n",
        "    def __init__(self, df, info_list, name, search_term_vector, no_to_get, file_name):\n",
        "        self.df = df\n",
        "        self.info_list = info_list\n",
        "        self.col_name = name\n",
        "        self.col_to_get = 'details_to_convert'\n",
        "        self.search_term_vector = search_term_vector\n",
        "        self.no_to_get = no_to_get\n",
        "        self.file_name = file_name\n",
        "\n",
        "    def func_get_details(self):\n",
        "          for i in range(len(self.info_list)):\n",
        "            if i == 0:\n",
        "                self.df[self.col_to_get] = self.df[self.info_list[i]]\n",
        "            else:\n",
        "                self.df[self.col_to_get] += ' ' + self.df[self.info_list[i]]\n",
        "\n",
        "    def func_get_embeddings(self):\n",
        "        # patent_technology_df\n",
        "        self.df['embedding'] = self.df[self.col_to_get].apply(lambda x: get_embedding(x, engine='text-embedding-ada-002'))\n",
        "        self.df.to_csv(self.col_name+'_embeddings.csv')\n",
        "\n",
        "    def func_load_embeddings_from_file_name(self):\n",
        "        self.df = pd.read_csv(self.file_name)\n",
        "\n",
        "    def func_load_embeddings(self):\n",
        "        self.df = pd.read_csv(self.col_name+'_embeddings.csv')\n",
        "\n",
        "    def func_get_sim(self):\n",
        "        self.df[\"similarities\"] = self.df['embedding'].apply(lambda x: cosine_similarity(x, search_term_vector))\n",
        "        self.df_sorted = self.df.sort_values(\"similarities\", ascending=False).head(20)\n",
        "        self.df_sorted.to_csv(self.col_name+'_sorted.csv')\n",
        "\n",
        "    def func_get_feed(self):\n",
        "        self.df_feed = self.df.iloc[0:self.no_to_get][self.col_name].values\n",
        "\n",
        "    def func_get_setup(self):\n",
        "        self.func_get_details()\n",
        "        self.func_get_embeddings()\n",
        "        self.func_get_sim()\n",
        "        self.func_get_feed()\n",
        "\n",
        "    def func_load_setup(self):\n",
        "        self.func_get_details()\n",
        "        self.func_load_embeddings()\n",
        "        self.func_get_sim()\n",
        "        self.func_get_feed()\n",
        "\n",
        "    def func_query(self):\n",
        "        self.func_get_sim()\n",
        "        self.func_get_feed()\n"
      ],
      "metadata": {
        "id": "rReiLTsobp2u"
      },
      "execution_count": null,
      "outputs": []
    },
    {
      "cell_type": "code",
      "source": [
        "def get_keywords(text):\n",
        "    return openai.Completion.create(\n",
        "        prompt='Extract keywords from the following text and output as a csv file: '+text,\n",
        "        temperature=1,\n",
        "        max_tokens=500,\n",
        "        top_p=1,\n",
        "        frequency_penalty=0,\n",
        "        presence_penalty=0,\n",
        "        model=COMPLETIONS_MODEL\n",
        "    )[\"choices\"][0][\"text\"].strip(\" \\n\")"
      ],
      "metadata": {
        "id": "t3EnrY9Nkmnn"
      },
      "execution_count": null,
      "outputs": []
    },
    {
      "cell_type": "code",
      "source": [
        "style = input('Enter a style: ')\n",
        "type_of_English = input('Enter a type of English: ')\n",
        "question = input('Enter a question: ')\n",
        "\n",
        "keywords = get_keywords(question)\n",
        "\n",
        "# semantic search\n",
        "search_term_vector = get_embedding(keywords, engine=\"text-embedding-ada-002\")\n",
        "search_term_vector"
      ],
      "metadata": {
        "id": "r2p9YLfikVKj"
      },
      "execution_count": null,
      "outputs": []
    },
    {
      "cell_type": "code",
      "source": [
        "technology_embeddings_new = pd.read_csv('technology_embeddings2.csv')"
      ],
      "metadata": {
        "id": "RvuvLN9FwO5x"
      },
      "execution_count": null,
      "outputs": []
    },
    {
      "cell_type": "code",
      "source": [
        "technology_embeddings_new['embedding'].values.shape"
      ],
      "metadata": {
        "id": "GrVBgJBRwSUv"
      },
      "execution_count": null,
      "outputs": []
    },
    {
      "cell_type": "code",
      "source": [
        "software_obj.func_get_sim()"
      ],
      "metadata": {
        "id": "_ZHRC33gvuA7"
      },
      "execution_count": null,
      "outputs": []
    },
    {
      "cell_type": "code",
      "source": [
        "software_obj = database(software_df, software_info_list, 'software name', search_term_vector, no_to_get, software_file_name)\n",
        "software_obj.func_load_setup()"
      ],
      "metadata": {
        "id": "yxaYdewut-uG"
      },
      "execution_count": null,
      "outputs": []
    },
    {
      "cell_type": "code",
      "source": [
        "type(search_term_vector)"
      ],
      "metadata": {
        "id": "bXDP4pGgzIjk"
      },
      "execution_count": null,
      "outputs": []
    },
    {
      "cell_type": "code",
      "source": [
        "search_term_vector = keywords\n",
        "no_to_get = 2\n",
        "\n",
        "patent_obj = database(patent_df, technology_info_list, 'technology', search_term_vector, no_to_get)\n",
        "software_obj = database(software_df, software_info_list, 'software name', search_term_vector, no_to_get)\n",
        "patent_obj.func_get_setup()\n",
        "software_obj.func_get_setup()"
      ],
      "metadata": {
        "id": "8i-w8ZHHbyeX"
      },
      "execution_count": null,
      "outputs": []
    },
    {
      "cell_type": "code",
      "source": [
        "# print(patent.df_feed)\n",
        "\n",
        "context = ''\n",
        "for i in patent.df_feed:\n",
        "    context += ', ' + i\n",
        "for i in software.df_feed:\n",
        "    context += ', ' + i\n",
        "\n",
        "print(context)"
      ],
      "metadata": {
        "id": "mog7mtmYj7bP"
      },
      "execution_count": null,
      "outputs": []
    },
    {
      "cell_type": "code",
      "source": [
        "# style = input('Enter a style: ')\n",
        "# type_of_English = input('Enter a type of English':)\n",
        "# question = input('Enter a question: ')"
      ],
      "metadata": {
        "id": "WUuXAN78jDb_"
      },
      "execution_count": null,
      "outputs": []
    },
    {
      "cell_type": "code",
      "source": [
        "prompt = f\"\"\"Answer the following question using only the context below. Answer in the style of {style} in {type_of_English}. If you don't know the answer for certain, say I don't know. \n",
        "\n",
        "Provide the patent number, author and location of invention with each technology used.\n",
        "\n",
        "Each comma in the context separates each technology.\n",
        "\n",
        "Context:\n",
        "{context}\n",
        "\n",
        "Q: {question}\n",
        "A:\"\"\"\n",
        "\n",
        "openai.Completion.create(\n",
        "    prompt=prompt,\n",
        "    temperature=1,\n",
        "    max_tokens=500,\n",
        "    top_p=1,\n",
        "    frequency_penalty=0,\n",
        "    presence_penalty=0,\n",
        "    model=COMPLETIONS_MODEL\n",
        ")[\"choices\"][0][\"text\"].strip(\" \\n\")"
      ],
      "metadata": {
        "id": "90AzjbcLiGL1"
      },
      "execution_count": null,
      "outputs": []
    }
  ]
}